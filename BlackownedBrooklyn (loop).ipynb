{
 "cells": [
  {
   "cell_type": "code",
   "execution_count": 7,
   "metadata": {},
   "outputs": [],
   "source": [
    "#Import libraries\n",
    "import requests\n",
    "from bs4 import BeautifulSoup"
   ]
  },
  {
   "cell_type": "code",
   "execution_count": 60,
   "metadata": {},
   "outputs": [
    {
     "data": {
      "text/plain": [
       "73"
      ]
     },
     "execution_count": 60,
     "metadata": {},
     "output_type": "execute_result"
    }
   ],
   "source": [
    "urls = [\n",
    "    'https://www.blackownedbrooklyn.com/stories/deptofculture',\n",
    "    'https://www.blackownedbrooklyn.com/stories/good-wine',\n",
    "    'https://www.blackownedbrooklyn.com/stories/brooklynsweetspot',\n",
    "    'https://www.blackownedbrooklyn.com/stories/thenarativ',\n",
    "    'https://www.blackownedbrooklyn.com/stories/kelewele',\n",
    "    'https://www.blackownedbrooklyn.com/stories/bierwax',\n",
    "    'https://www.blackownedbrooklyn.com/stories/zanmi',\n",
    "    'https://www.blackownedbrooklyn.com/stories/mothershuckers',\n",
    "    'https://www.blackownedbrooklyn.com/stories/macshack',\n",
    "    'https://www.blackownedbrooklyn.com/stories/lipscafe',    \n",
    "    'https://www.blackownedbrooklyn.com/stories/lotusscoop',\n",
    "    'https://www.blackownedbrooklyn.com/stories/paperboyloveprince',    \n",
    "    'https://www.blackownedbrooklyn.com/stories/cheris',    \n",
    "    'https://www.blackownedbrooklyn.com/stories/brooklynsuya',\n",
    "    'https://www.blackownedbrooklyn.com/stories/bakeryonbergen',\n",
    "    'https://www.blackownedbrooklyn.com/stories/likkle',\n",
    "    'https://www.blackownedbrooklyn.com/stories/joloff',\n",
    "    'https://www.blackownedbrooklyn.com/stories/therogersgarden',\n",
    "    'https://www.blackownedbrooklyn.com/stories/badnboozy',\n",
    "    'https://www.blackownedbrooklyn.com/stories/brooklyn-supported-agriculture',\n",
    "    'https://www.blackownedbrooklyn.com/stories/cuts-and-slices',\n",
    "    'https://www.blackownedbrooklyn.com/stories/milk-and-pull',\n",
    "    'https://www.blackownedbrooklyn.com/stories/bednos-liquidassets',\n",
    "    'https://www.blackownedbrooklyn.com/stories/buy-better-foods',    \n",
    "    'https://www.blackownedbrooklyn.com/stories/shaquanda-will-feed-you',    \n",
    "    'https://www.blackownedbrooklyn.com/stories/ras-plant-based',\n",
    "    'https://www.blackownedbrooklyn.com/stories/brown-butter',\n",
    "    'https://www.blackownedbrooklyn.com/stories/cafe-on-ralph',\n",
    "    'https://www.blackownedbrooklyn.com/stories/the-bergen',\n",
    "    'https://www.blackownedbrooklyn.com/stories/black-nile',\n",
    "    'https://www.blackownedbrooklyn.com/stories/bk9',\n",
    "    'https://www.blackownedbrooklyn.com/stories/nurish',\n",
    "    'https://www.blackownedbrooklyn.com/stories/italkitchen',\n",
    "    'https://www.blackownedbrooklyn.com/stories/happy-cork',\n",
    "    'https://www.blackownedbrooklyn.com/stories/zaca-cafe',\n",
    "    'https://www.blackownedbrooklyn.com/stories/bcakeny',\n",
    "    'https://www.blackownedbrooklyn.com/stories/daleview-biscuits-and-beer',\n",
    "    'https://www.blackownedbrooklyn.com/stories/buntons-world-famous',\n",
    "    'https://www.blackownedbrooklyn.com/stories/branch-patty',\n",
    "    'https://www.blackownedbrooklyn.com/stories/bed-vyne-wine-spirits',\n",
    "    'https://www.blackownedbrooklyn.com/stories/biyou',\n",
    "    'https://www.blackownedbrooklyn.com/stories/rain-eatery-juice-bar',\n",
    "    'https://www.blackownedbrooklyn.com/stories/brooklyn-tea',\n",
    "    'https://www.blackownedbrooklyn.com/stories/akwaaba-mansion',\n",
    "    'https://www.blackownedbrooklyn.com/stories/lakou-cafe',\n",
    "    'https://www.blackownedbrooklyn.com/stories/bushwick-grind',\n",
    "    'https://www.blackownedbrooklyn.com/stories/sofia-and-grace-cookie-company',\n",
    "    'https://www.blackownedbrooklyn.com/stories/baby-jane',\n",
    "    'https://www.blackownedbrooklyn.com/stories/bati-ethiopian-kitchen',\n",
    "    'https://www.blackownedbrooklyn.com/stories/cheryls-global-soul',\n",
    "    'https://www.blackownedbrooklyn.com/stories/the-juicy-box',\n",
    "    'https://www.blackownedbrooklyn.com/stories/island-pops',\n",
    "    'https://www.blackownedbrooklyn.com/stories/zurilee-pizza-bar',\n",
    "    'https://www.blackownedbrooklyn.com/stories/basquiats-bottle',\n",
    "    'https://www.blackownedbrooklyn.com/stories/creme-cocoa-creamery',\n",
    "    'https://www.blackownedbrooklyn.com/stories/wine-o',\n",
    "    'https://www.blackownedbrooklyn.com/stories/peppas-jerk-chicken',    \n",
    "    'https://www.blackownedbrooklyn.com/stories/greedi-vegan',    \n",
    "    'https://www.blackownedbrooklyn.com/stories/bottoms-up-wine-spirits',    \n",
    "    'https://www.blackownedbrooklyn.com/stories/brooklyn-blend',\n",
    "    'https://www.blackownedbrooklyn.com/stories/ode-to-babel',\n",
    "    'https://www.blackownedbrooklyn.com/stories/abus-homestyle-bakery',\n",
    "    'https://www.blackownedbrooklyn.com/stories/el-jeffe',\n",
    "    'https://www.blackownedbrooklyn.com/stories/sol-sips',\n",
    "    'https://www.blackownedbrooklyn.com/stories/grandchamps',\n",
    "    'https://www.blackownedbrooklyn.com/stories/brooklyn-braised',\n",
    "    'https://www.blackownedbrooklyn.com/stories/tip-top-bar-grill',\n",
    "    'https://www.blackownedbrooklyn.com/stories/daddy-greens',\n",
    "    'https://www.blackownedbrooklyn.com/stories/the-crabby-shack',\n",
    "    'https://www.blackownedbrooklyn.com/stories/buka',\n",
    "    'https://www.blackownedbrooklyn.com/stories/cafe-con-libros',\n",
    "    'https://www.blackownedbrooklyn.com/stories/breukelen-coffee-house',\n",
    "    'https://www.blackownedbrooklyn.com/stories/2015/11/23/mallorca-a-backdoor-paradise-x8hyj'\n",
    "]\n",
    "len(urls)\n",
    "# newlist = urls"
   ]
  },
  {
   "cell_type": "code",
   "execution_count": 59,
   "metadata": {
    "scrolled": false
   },
   "outputs": [
    {
     "name": "stdout",
     "output_type": "stream",
     "text": [
      "=================================jl===================================\n",
      "NOT_FOUND_ARRAY:  []\n"
     ]
    },
    {
     "data": {
      "text/plain": [
       "0"
      ]
     },
     "execution_count": 59,
     "metadata": {},
     "output_type": "execute_result"
    }
   ],
   "source": [
    "#loop through the urls and send get request to the url\n",
    "LOOP_COUNT = 0\n",
    "NOT_FOUND_ARRAY = []\n",
    "\n",
    "def Scrape(urls): \n",
    "    NA_COUNT = 0\n",
    "    NO_ADDRESS_COUNT = 0\n",
    "    NOT_FOUND = 0\n",
    "    COUNT = 0\n",
    "    while(len(urls)):\n",
    "        index = 0\n",
    "        url = urls[index]\n",
    "    #     for url in urls:\n",
    "#         url = urls[i]\n",
    "        response = requests.get(url)\n",
    "        del urls[0]\n",
    "#         urls.pop(i)\n",
    "        soup = BeautifulSoup(response.text, \"html.parser\")\n",
    "\n",
    "    #   business_soupDiv = soup.find(\"div\", {\"class\":\"blog-item-title\"})\n",
    "    #   business_soupDiv = soup.select_one(\"div.blog-item-title\")\n",
    "        business_soupDiv = soup.select_one(\"article.entry--item\")\n",
    "        COUNT = COUNT + 1\n",
    "        if (business_soupDiv):  \n",
    "            ## GRAB BUSINESS NAME\n",
    "    #       business_soup = business_soupDiv.find('h2', {\"itemprop\":\"headline\"})\n",
    "            business_soup = business_soupDiv.select_one(\"h2.p-name\")\n",
    "            if (business_soup.text):\n",
    "                business_text = business_soup.contents[1]\n",
    "            else:\n",
    "                business.text = \"N/A\"\n",
    "                NA_COUNT = NA_COUNT + 1\n",
    "\n",
    "            ## GRAB ADDRESS\n",
    "            address_soup = business_soupDiv.select_one(\"div.sqs-block-content p em\")\n",
    "            address_text = address_soup.text if address_soup else \"N/A\"\n",
    "\n",
    "            ## GRAB WEBSITE\n",
    "            website_soup = business_soupDiv.select_one(\"div.sqs-block-content p em + a:last-of-type\")\n",
    "            website_soup2 = business_soupDiv.select_one(\"div.sqs-block-content p strong + a\")\n",
    "    #       website_soup3 = business_soupDiv.select_one(\"div.sqs-block-content p a\")\n",
    "\n",
    "            website_link = website_soup.get(\"href\") if website_soup else \"N/A\"\n",
    "            website_link = website_soup2.get(\"href\") if website_soup2 else website_link\n",
    "    #       website_link = website_soup3.get(\"href\") if website_soup3 else website_link\n",
    "        else:\n",
    "            NOT_FOUND = NOT_FOUND + 1\n",
    "            NOT_FOUND_ARRAY.append(url)\n",
    "            continue\n",
    "\n",
    "\n",
    "        \n",
    "    #   business_text = business_soup.text if business_soup else \"N/A\" NA_COUNT = NA_COUNT + 1\n",
    "        #address = soup.find('p', class_=\"\", style = \"white-space:pre-wrap;\").find('em').get_text()\n",
    "        #website_tag = soup.find('a', {'id': 'yui_3_17_2_1_1678698112318_524'})\n",
    "        #website = website_tag.get('href')\n",
    "\n",
    "        print('Business_Name:', business_text)\n",
    "        print(\"Address: \", address_text)\n",
    "        print(\"Link: \", website_link)\n",
    "        #print('Address:', address)\n",
    "        #print('Website:', website)\n",
    "        print('Category:', \"Food and drinks\")\n",
    "        print(\"NA_COUNT: \", NA_COUNT)\n",
    "        print(\"COUNT: \", COUNT)\n",
    "        print(\"NOT FOUND: \", NOT_FOUND)\n",
    "        print(\"url: \", url)\n",
    "        print(\"=============================\")\n",
    "    \n",
    "#     print(\"initial length: \", )\n",
    "\n",
    "Scrape(urls)\n",
    "while(len(NOT_FOUND_ARRAY) and LOOP_COUNT <= 10):\n",
    "    Scrape(NOT_FOUND_ARRAY)\n",
    "    LOOP_COUNT = LOOP_COUNT + 1\n",
    "print(\"=================================jl===================================\")\n",
    "print(\"NOT_FOUND_ARRAY: \", NOT_FOUND_ARRAY)\n",
    "len(NOT_FOUND_ARRAY)\n",
    "# urls = newlist"
   ]
  },
  {
   "cell_type": "code",
   "execution_count": 52,
   "metadata": {},
   "outputs": [
    {
     "data": {
      "text/plain": [
       "0"
      ]
     },
     "execution_count": 52,
     "metadata": {},
     "output_type": "execute_result"
    }
   ],
   "source": [
    "len(urls)"
   ]
  },
  {
   "cell_type": "code",
   "execution_count": 58,
   "metadata": {},
   "outputs": [
    {
     "data": {
      "text/plain": [
       "[]"
      ]
     },
     "execution_count": 58,
     "metadata": {},
     "output_type": "execute_result"
    }
   ],
   "source": [
    "NOT_FOUND_ARRAY"
   ]
  },
  {
   "cell_type": "code",
   "execution_count": null,
   "metadata": {},
   "outputs": [],
   "source": []
  }
 ],
 "metadata": {
  "kernelspec": {
   "display_name": "Python 3",
   "language": "python",
   "name": "python3"
  },
  "language_info": {
   "codemirror_mode": {
    "name": "ipython",
    "version": 3
   },
   "file_extension": ".py",
   "mimetype": "text/x-python",
   "name": "python",
   "nbconvert_exporter": "python",
   "pygments_lexer": "ipython3",
   "version": "3.7.6"
  }
 },
 "nbformat": 4,
 "nbformat_minor": 5
}
